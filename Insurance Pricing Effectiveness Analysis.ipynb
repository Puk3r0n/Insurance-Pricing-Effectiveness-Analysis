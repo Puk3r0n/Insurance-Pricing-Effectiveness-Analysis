{
 "cells": [
  {
   "cell_type": "code",
   "execution_count": 1,
   "id": "086e2dbd",
   "metadata": {},
   "outputs": [],
   "source": [
    "import pandas as pd\n",
    "from scipy import stats"
   ]
  },
  {
   "cell_type": "markdown",
   "id": "6544352f",
   "metadata": {},
   "source": [
    "## Импорт данных для анализа"
   ]
  },
  {
   "cell_type": "code",
   "execution_count": 2,
   "id": "e3706b55",
   "metadata": {},
   "outputs": [],
   "source": [
    "contracts = pd.read_excel('CASE_CONTRACTS.xlsx')\n",
    "losses = pd.read_excel('CASE_LOSSES.xlsx')\n",
    "experiment_groups = pd.read_excel('experiment_group.xlsx')"
   ]
  },
  {
   "cell_type": "code",
   "execution_count": 3,
   "id": "02821605",
   "metadata": {},
   "outputs": [
    {
     "data": {
      "text/html": [
       "<div>\n",
       "<style scoped>\n",
       "    .dataframe tbody tr th:only-of-type {\n",
       "        vertical-align: middle;\n",
       "    }\n",
       "\n",
       "    .dataframe tbody tr th {\n",
       "        vertical-align: top;\n",
       "    }\n",
       "\n",
       "    .dataframe thead th {\n",
       "        text-align: right;\n",
       "    }\n",
       "</style>\n",
       "<table border=\"1\" class=\"dataframe\">\n",
       "  <thead>\n",
       "    <tr style=\"text-align: right;\">\n",
       "      <th></th>\n",
       "      <th>contract_id</th>\n",
       "      <th>contract_num</th>\n",
       "      <th>product_name</th>\n",
       "      <th>client_id</th>\n",
       "      <th>contract_status</th>\n",
       "      <th>currency_name</th>\n",
       "      <th>duration</th>\n",
       "      <th>country</th>\n",
       "      <th>price</th>\n",
       "      <th>insurance_amount</th>\n",
       "    </tr>\n",
       "  </thead>\n",
       "  <tbody>\n",
       "    <tr>\n",
       "      <th>0</th>\n",
       "      <td>21111219</td>\n",
       "      <td>ТТЕ7227715*****</td>\n",
       "      <td>Страхование путешественников</td>\n",
       "      <td>10161870404</td>\n",
       "      <td>Действует</td>\n",
       "      <td>Российский рубль</td>\n",
       "      <td>10</td>\n",
       "      <td>Беларусь</td>\n",
       "      <td>1096</td>\n",
       "      <td>2000000</td>\n",
       "    </tr>\n",
       "    <tr>\n",
       "      <th>1</th>\n",
       "      <td>21111381</td>\n",
       "      <td>ТТЕ7227715*****</td>\n",
       "      <td>Страхование путешественников</td>\n",
       "      <td>1017159879</td>\n",
       "      <td>Действует</td>\n",
       "      <td>Российский рубль</td>\n",
       "      <td>7</td>\n",
       "      <td>Индонезия</td>\n",
       "      <td>1918</td>\n",
       "      <td>5000000</td>\n",
       "    </tr>\n",
       "    <tr>\n",
       "      <th>2</th>\n",
       "      <td>21112353</td>\n",
       "      <td>БАДАМСТЕ55*****</td>\n",
       "      <td>Страхование путешественников</td>\n",
       "      <td>10161883357</td>\n",
       "      <td>Действует</td>\n",
       "      <td>Российский рубль</td>\n",
       "      <td>10</td>\n",
       "      <td>Беларусь</td>\n",
       "      <td>1096</td>\n",
       "      <td>2000000</td>\n",
       "    </tr>\n",
       "    <tr>\n",
       "      <th>3</th>\n",
       "      <td>21113224</td>\n",
       "      <td>ТТЕ7227715*****</td>\n",
       "      <td>Страхование путешественников</td>\n",
       "      <td>100766461</td>\n",
       "      <td>Действует</td>\n",
       "      <td>Российский рубль</td>\n",
       "      <td>14</td>\n",
       "      <td>Грузия</td>\n",
       "      <td>1534</td>\n",
       "      <td>2000000</td>\n",
       "    </tr>\n",
       "    <tr>\n",
       "      <th>4</th>\n",
       "      <td>21113292</td>\n",
       "      <td>ТТЕ7227715*****</td>\n",
       "      <td>Страхование путешественников</td>\n",
       "      <td>10171604758</td>\n",
       "      <td>Действует</td>\n",
       "      <td>Российский рубль</td>\n",
       "      <td>7</td>\n",
       "      <td>Аргентина</td>\n",
       "      <td>1918</td>\n",
       "      <td>5000000</td>\n",
       "    </tr>\n",
       "  </tbody>\n",
       "</table>\n",
       "</div>"
      ],
      "text/plain": [
       "   contract_id     contract_num                  product_name    client_id  \\\n",
       "0     21111219  ТТЕ7227715*****  Страхование путешественников  10161870404   \n",
       "1     21111381  ТТЕ7227715*****  Страхование путешественников   1017159879   \n",
       "2     21112353  БАДАМСТЕ55*****  Страхование путешественников  10161883357   \n",
       "3     21113224  ТТЕ7227715*****  Страхование путешественников    100766461   \n",
       "4     21113292  ТТЕ7227715*****  Страхование путешественников  10171604758   \n",
       "\n",
       "  contract_status     currency_name  duration    country  price  \\\n",
       "0       Действует  Российский рубль        10   Беларусь   1096   \n",
       "1       Действует  Российский рубль         7  Индонезия   1918   \n",
       "2       Действует  Российский рубль        10   Беларусь   1096   \n",
       "3       Действует  Российский рубль        14     Грузия   1534   \n",
       "4       Действует  Российский рубль         7  Аргентина   1918   \n",
       "\n",
       "   insurance_amount  \n",
       "0           2000000  \n",
       "1           5000000  \n",
       "2           2000000  \n",
       "3           2000000  \n",
       "4           5000000  "
      ]
     },
     "execution_count": 3,
     "metadata": {},
     "output_type": "execute_result"
    }
   ],
   "source": [
    "contracts.head()"
   ]
  },
  {
   "cell_type": "code",
   "execution_count": 4,
   "id": "8f5a7c12",
   "metadata": {},
   "outputs": [
    {
     "data": {
      "text/html": [
       "<div>\n",
       "<style scoped>\n",
       "    .dataframe tbody tr th:only-of-type {\n",
       "        vertical-align: middle;\n",
       "    }\n",
       "\n",
       "    .dataframe tbody tr th {\n",
       "        vertical-align: top;\n",
       "    }\n",
       "\n",
       "    .dataframe thead th {\n",
       "        text-align: right;\n",
       "    }\n",
       "</style>\n",
       "<table border=\"1\" class=\"dataframe\">\n",
       "  <thead>\n",
       "    <tr style=\"text-align: right;\">\n",
       "      <th></th>\n",
       "      <th>client_id</th>\n",
       "      <th>group</th>\n",
       "      <th>experiment_id</th>\n",
       "    </tr>\n",
       "  </thead>\n",
       "  <tbody>\n",
       "    <tr>\n",
       "      <th>0</th>\n",
       "      <td>10001718</td>\n",
       "      <td>control</td>\n",
       "      <td>policy_pricing</td>\n",
       "    </tr>\n",
       "    <tr>\n",
       "      <th>1</th>\n",
       "      <td>1017180395</td>\n",
       "      <td>control</td>\n",
       "      <td>policy_pricing</td>\n",
       "    </tr>\n",
       "    <tr>\n",
       "      <th>2</th>\n",
       "      <td>1017178047</td>\n",
       "      <td>control</td>\n",
       "      <td>policy_pricing</td>\n",
       "    </tr>\n",
       "    <tr>\n",
       "      <th>3</th>\n",
       "      <td>1017174614</td>\n",
       "      <td>control</td>\n",
       "      <td>policy_pricing</td>\n",
       "    </tr>\n",
       "    <tr>\n",
       "      <th>4</th>\n",
       "      <td>1017174071</td>\n",
       "      <td>control</td>\n",
       "      <td>policy_pricing</td>\n",
       "    </tr>\n",
       "  </tbody>\n",
       "</table>\n",
       "</div>"
      ],
      "text/plain": [
       "    client_id    group   experiment_id\n",
       "0    10001718  control  policy_pricing\n",
       "1  1017180395  control  policy_pricing\n",
       "2  1017178047  control  policy_pricing\n",
       "3  1017174614  control  policy_pricing\n",
       "4  1017174071  control  policy_pricing"
      ]
     },
     "execution_count": 4,
     "metadata": {},
     "output_type": "execute_result"
    }
   ],
   "source": [
    "experiment_groups.head()"
   ]
  },
  {
   "cell_type": "code",
   "execution_count": 5,
   "id": "9c56dd27",
   "metadata": {},
   "outputs": [
    {
     "data": {
      "text/html": [
       "<div>\n",
       "<style scoped>\n",
       "    .dataframe tbody tr th:only-of-type {\n",
       "        vertical-align: middle;\n",
       "    }\n",
       "\n",
       "    .dataframe tbody tr th {\n",
       "        vertical-align: top;\n",
       "    }\n",
       "\n",
       "    .dataframe thead th {\n",
       "        text-align: right;\n",
       "    }\n",
       "</style>\n",
       "<table border=\"1\" class=\"dataframe\">\n",
       "  <thead>\n",
       "    <tr style=\"text-align: right;\">\n",
       "      <th></th>\n",
       "      <th>loss_id</th>\n",
       "      <th>client_id</th>\n",
       "      <th>loss_name</th>\n",
       "      <th>loss_payout_amt</th>\n",
       "    </tr>\n",
       "  </thead>\n",
       "  <tbody>\n",
       "    <tr>\n",
       "      <th>0</th>\n",
       "      <td>1</td>\n",
       "      <td>10000713193</td>\n",
       "      <td>Оказание медицинской помощи</td>\n",
       "      <td>100000</td>\n",
       "    </tr>\n",
       "    <tr>\n",
       "      <th>1</th>\n",
       "      <td>2</td>\n",
       "      <td>100014656</td>\n",
       "      <td>Оказание медицинской помощи</td>\n",
       "      <td>50000</td>\n",
       "    </tr>\n",
       "    <tr>\n",
       "      <th>2</th>\n",
       "      <td>3</td>\n",
       "      <td>10006545463</td>\n",
       "      <td>Оказание медицинской помощи</td>\n",
       "      <td>30000</td>\n",
       "    </tr>\n",
       "    <tr>\n",
       "      <th>3</th>\n",
       "      <td>4</td>\n",
       "      <td>10006611194</td>\n",
       "      <td>Оказание медицинской помощи</td>\n",
       "      <td>70000</td>\n",
       "    </tr>\n",
       "    <tr>\n",
       "      <th>4</th>\n",
       "      <td>5</td>\n",
       "      <td>1001091597</td>\n",
       "      <td>Оказание медицинской помощи</td>\n",
       "      <td>60000</td>\n",
       "    </tr>\n",
       "  </tbody>\n",
       "</table>\n",
       "</div>"
      ],
      "text/plain": [
       "   loss_id    client_id                    loss_name  loss_payout_amt\n",
       "0        1  10000713193  Оказание медицинской помощи           100000\n",
       "1        2    100014656  Оказание медицинской помощи            50000\n",
       "2        3  10006545463  Оказание медицинской помощи            30000\n",
       "3        4  10006611194  Оказание медицинской помощи            70000\n",
       "4        5   1001091597  Оказание медицинской помощи            60000"
      ]
     },
     "execution_count": 5,
     "metadata": {},
     "output_type": "execute_result"
    }
   ],
   "source": [
    "losses.head()"
   ]
  },
  {
   "cell_type": "markdown",
   "id": "b4f9242d",
   "metadata": {},
   "source": [
    "### Объединение данных"
   ]
  },
  {
   "cell_type": "code",
   "execution_count": 6,
   "id": "4cb38cf7",
   "metadata": {},
   "outputs": [],
   "source": [
    "data = pd.merge(experiment_groups, contracts, on='client_id', how='left')\n",
    "data = pd.merge(data, losses, on='client_id', how='left')"
   ]
  },
  {
   "cell_type": "code",
   "execution_count": 7,
   "id": "a5409fdb",
   "metadata": {},
   "outputs": [
    {
     "data": {
      "text/html": [
       "<div>\n",
       "<style scoped>\n",
       "    .dataframe tbody tr th:only-of-type {\n",
       "        vertical-align: middle;\n",
       "    }\n",
       "\n",
       "    .dataframe tbody tr th {\n",
       "        vertical-align: top;\n",
       "    }\n",
       "\n",
       "    .dataframe thead th {\n",
       "        text-align: right;\n",
       "    }\n",
       "</style>\n",
       "<table border=\"1\" class=\"dataframe\">\n",
       "  <thead>\n",
       "    <tr style=\"text-align: right;\">\n",
       "      <th></th>\n",
       "      <th>client_id</th>\n",
       "      <th>group</th>\n",
       "      <th>experiment_id</th>\n",
       "      <th>contract_id</th>\n",
       "      <th>contract_num</th>\n",
       "      <th>product_name</th>\n",
       "      <th>contract_status</th>\n",
       "      <th>currency_name</th>\n",
       "      <th>duration</th>\n",
       "      <th>country</th>\n",
       "      <th>price</th>\n",
       "      <th>insurance_amount</th>\n",
       "      <th>loss_id</th>\n",
       "      <th>loss_name</th>\n",
       "      <th>loss_payout_amt</th>\n",
       "    </tr>\n",
       "  </thead>\n",
       "  <tbody>\n",
       "    <tr>\n",
       "      <th>0</th>\n",
       "      <td>10001718</td>\n",
       "      <td>control</td>\n",
       "      <td>policy_pricing</td>\n",
       "      <td>2.123569e+08</td>\n",
       "      <td>ТТЕ7227715*****</td>\n",
       "      <td>Страхование путешественников</td>\n",
       "      <td>Действует</td>\n",
       "      <td>Российский рубль</td>\n",
       "      <td>14.0</td>\n",
       "      <td>Египет</td>\n",
       "      <td>3836.0</td>\n",
       "      <td>5000000.0</td>\n",
       "      <td>NaN</td>\n",
       "      <td>NaN</td>\n",
       "      <td>NaN</td>\n",
       "    </tr>\n",
       "    <tr>\n",
       "      <th>1</th>\n",
       "      <td>1017180395</td>\n",
       "      <td>control</td>\n",
       "      <td>policy_pricing</td>\n",
       "      <td>2.135234e+07</td>\n",
       "      <td>ДСЖ-5/1539*****</td>\n",
       "      <td>Страхование путешественников</td>\n",
       "      <td>Действует</td>\n",
       "      <td>Российский рубль</td>\n",
       "      <td>7.0</td>\n",
       "      <td>Таиланд</td>\n",
       "      <td>1918.0</td>\n",
       "      <td>5000000.0</td>\n",
       "      <td>NaN</td>\n",
       "      <td>NaN</td>\n",
       "      <td>NaN</td>\n",
       "    </tr>\n",
       "    <tr>\n",
       "      <th>2</th>\n",
       "      <td>1017178047</td>\n",
       "      <td>control</td>\n",
       "      <td>policy_pricing</td>\n",
       "      <td>2.147454e+09</td>\n",
       "      <td>ТМБЕ579 № *****</td>\n",
       "      <td>Страхование путешественников</td>\n",
       "      <td>Действует</td>\n",
       "      <td>Российский рубль</td>\n",
       "      <td>14.0</td>\n",
       "      <td>Египет</td>\n",
       "      <td>3836.0</td>\n",
       "      <td>5000000.0</td>\n",
       "      <td>NaN</td>\n",
       "      <td>NaN</td>\n",
       "      <td>NaN</td>\n",
       "    </tr>\n",
       "    <tr>\n",
       "      <th>3</th>\n",
       "      <td>1017174614</td>\n",
       "      <td>control</td>\n",
       "      <td>policy_pricing</td>\n",
       "      <td>2.135192e+07</td>\n",
       "      <td>ТМГ1535Е7 *****</td>\n",
       "      <td>Страхование путешественников</td>\n",
       "      <td>Действует</td>\n",
       "      <td>Российский рубль</td>\n",
       "      <td>7.0</td>\n",
       "      <td>Таиланд</td>\n",
       "      <td>1918.0</td>\n",
       "      <td>5000000.0</td>\n",
       "      <td>NaN</td>\n",
       "      <td>NaN</td>\n",
       "      <td>NaN</td>\n",
       "    </tr>\n",
       "    <tr>\n",
       "      <th>4</th>\n",
       "      <td>1017174071</td>\n",
       "      <td>control</td>\n",
       "      <td>policy_pricing</td>\n",
       "      <td>2.162434e+08</td>\n",
       "      <td>ТТЕ7227777*****</td>\n",
       "      <td>Страхование путешественников</td>\n",
       "      <td>Завершен</td>\n",
       "      <td>Российский рубль</td>\n",
       "      <td>10.0</td>\n",
       "      <td>Канада</td>\n",
       "      <td>1096.0</td>\n",
       "      <td>2000000.0</td>\n",
       "      <td>NaN</td>\n",
       "      <td>NaN</td>\n",
       "      <td>NaN</td>\n",
       "    </tr>\n",
       "  </tbody>\n",
       "</table>\n",
       "</div>"
      ],
      "text/plain": [
       "    client_id    group   experiment_id   contract_id     contract_num  \\\n",
       "0    10001718  control  policy_pricing  2.123569e+08  ТТЕ7227715*****   \n",
       "1  1017180395  control  policy_pricing  2.135234e+07  ДСЖ-5/1539*****   \n",
       "2  1017178047  control  policy_pricing  2.147454e+09  ТМБЕ579 № *****   \n",
       "3  1017174614  control  policy_pricing  2.135192e+07  ТМГ1535Е7 *****   \n",
       "4  1017174071  control  policy_pricing  2.162434e+08  ТТЕ7227777*****   \n",
       "\n",
       "                   product_name contract_status     currency_name  duration  \\\n",
       "0  Страхование путешественников       Действует  Российский рубль      14.0   \n",
       "1  Страхование путешественников       Действует  Российский рубль       7.0   \n",
       "2  Страхование путешественников       Действует  Российский рубль      14.0   \n",
       "3  Страхование путешественников       Действует  Российский рубль       7.0   \n",
       "4  Страхование путешественников        Завершен  Российский рубль      10.0   \n",
       "\n",
       "   country   price  insurance_amount  loss_id loss_name  loss_payout_amt  \n",
       "0   Египет  3836.0         5000000.0      NaN       NaN              NaN  \n",
       "1  Таиланд  1918.0         5000000.0      NaN       NaN              NaN  \n",
       "2   Египет  3836.0         5000000.0      NaN       NaN              NaN  \n",
       "3  Таиланд  1918.0         5000000.0      NaN       NaN              NaN  \n",
       "4   Канада  1096.0         2000000.0      NaN       NaN              NaN  "
      ]
     },
     "execution_count": 7,
     "metadata": {},
     "output_type": "execute_result"
    }
   ],
   "source": [
    "data.head()"
   ]
  },
  {
   "cell_type": "markdown",
   "id": "45c7e1b2",
   "metadata": {},
   "source": [
    "### Добавление столбца 'price_rub' с курсом рубля 80"
   ]
  },
  {
   "cell_type": "code",
   "execution_count": 8,
   "id": "57499027",
   "metadata": {},
   "outputs": [],
   "source": [
    "data['price_rub'] = data['price'] * 80"
   ]
  },
  {
   "cell_type": "markdown",
   "id": "cccfc363",
   "metadata": {},
   "source": [
    "### Разделение на тестовую и контрольную группы"
   ]
  },
  {
   "cell_type": "code",
   "execution_count": 9,
   "id": "d35b66ef",
   "metadata": {},
   "outputs": [],
   "source": [
    "group_test = data[data['group'] == 'test']\n",
    "group_control = data[data['group'] == 'control']"
   ]
  },
  {
   "cell_type": "code",
   "execution_count": 10,
   "id": "b6f5742d",
   "metadata": {},
   "outputs": [],
   "source": [
    "# 1. Средняя цена полиса\n",
    "mean_price_test = group_test['price_rub'].mean()\n",
    "mean_price_control = group_control['price_rub'].mean()"
   ]
  },
  {
   "cell_type": "code",
   "execution_count": 11,
   "id": "f09a6b27",
   "metadata": {},
   "outputs": [],
   "source": [
    "# 2. Конверсия в оформление\n",
    "conversion_test = len(group_test[~group_test['contract_id'].isna()]) / len(group_test)\n",
    "conversion_control = len(group_control[~group_control['contract_id'].isna()]) / len(group_control)"
   ]
  },
  {
   "cell_type": "code",
   "execution_count": 12,
   "id": "e545e9a9",
   "metadata": {},
   "outputs": [],
   "source": [
    "# 3. Убыточность\n",
    "total_losses_test = group_test['loss_payout_amt'].sum()\n",
    "total_premiums_test = group_test['price_rub'].sum()\n",
    "loss_ratio_test = total_losses_test / total_premiums_test if total_premiums_test else 0\n",
    "\n",
    "total_losses_control = group_control['loss_payout_amt'].sum()\n",
    "total_premiums_control = group_control['price_rub'].sum()\n",
    "loss_ratio_control = total_losses_control / total_premiums_control if total_premiums_control else 0"
   ]
  },
  {
   "cell_type": "markdown",
   "id": "4586c11d",
   "metadata": {},
   "source": [
    "## Вывод и анализ результатов"
   ]
  },
  {
   "cell_type": "code",
   "execution_count": 13,
   "id": "0cf6d115",
   "metadata": {},
   "outputs": [
    {
     "name": "stdout",
     "output_type": "stream",
     "text": [
      "Группа A (традиционный подход)\n",
      "Средняя цена полиса: 370896.27 RUB\n",
      "Конверсия: 26.44%\n",
      "Убыточность: 0.56%\n",
      "\n",
      "Группа B (кластеризация)\n",
      "Средняя цена полиса: 289865.78 RUB\n",
      "Конверсия: 32.25%\n",
      "Убыточность: 1.13%\n"
     ]
    }
   ],
   "source": [
    "print(\"Группа A (традиционный подход)\")\n",
    "print(f\"Средняя цена полиса: {mean_price_test:.2f} RUB\")\n",
    "print(f\"Конверсия: {conversion_test:.2%}\")\n",
    "print(f\"Убыточность: {loss_ratio_test:.2%}\")\n",
    "\n",
    "print(\"\\nГруппа B (кластеризация)\")\n",
    "print(f\"Средняя цена полиса: {mean_price_control:.2f} RUB\")\n",
    "print(f\"Конверсия: {conversion_control:.2%}\")\n",
    "print(f\"Убыточность: {loss_ratio_control:.2%}\")\n"
   ]
  },
  {
   "cell_type": "markdown",
   "id": "3b112f67",
   "metadata": {},
   "source": [
    "##### Убыточность группы B (1.13%) значительно выше, чем у группы A (0.56%). Это ключевой фактор, влияющий на прибыльность бизнеса."
   ]
  },
  {
   "cell_type": "markdown",
   "id": "0100797d",
   "metadata": {},
   "source": [
    "Хотя группа B (кластеризация) демонстрирует более высокую конверсию, ее убыточность значительно выше, чем у группы A.  Учитывая, что p-value для сравнения средней цены полиса меньше 0.05, мы можем сделать вывод о статистически значимой разнице в средней цене между группами. \n",
    "\n",
    "Использование традиционного подхода может привести к потере некоторой части клиентов, которые могли бы быть привлечены более низкой ценой в группе B. Однако, учитывая значительно более высокую убыточность группы B,  этот риск оправдан."
   ]
  },
  {
   "cell_type": "markdown",
   "id": "7d41f876",
   "metadata": {},
   "source": [
    "#### Статистический тест для сравнения средних значений цены полиса"
   ]
  },
  {
   "cell_type": "code",
   "execution_count": 14,
   "id": "92f25fc9",
   "metadata": {},
   "outputs": [
    {
     "name": "stdout",
     "output_type": "stream",
     "text": [
      "\n",
      "P-value для сравнения средней цены полиса: 0.002\n"
     ]
    }
   ],
   "source": [
    "t_statistic, p_value = stats.ttest_ind(group_test['price_rub'], group_control['price_rub'], nan_policy='omit')\n",
    "print(f\"\\nP-value для сравнения средней цены полиса: {p_value:.3f}\")"
   ]
  },
  {
   "cell_type": "markdown",
   "id": "74fe1be4",
   "metadata": {},
   "source": [
    "Низкое значение p-value (0.002) подтверждает статистически значимую разницу в средней цене полиса между группами."
   ]
  },
  {
   "cell_type": "markdown",
   "id": "8490d446",
   "metadata": {},
   "source": [
    "# --- Бизнес-рекомендация ---"
   ]
  },
  {
   "cell_type": "code",
   "execution_count": 15,
   "id": "45525a69",
   "metadata": {},
   "outputs": [
    {
     "name": "stdout",
     "output_type": "stream",
     "text": [
      "\n",
      "На основе предоставленных данных, рекомендуется продолжить использовать традиционный подход \n",
      "к ценообразованию (группа A)\n",
      "\n"
     ]
    }
   ],
   "source": [
    "print(\"\"\"\n",
    "На основе предоставленных данных, рекомендуется продолжить использовать традиционный подход \n",
    "к ценообразованию (группа A)\n",
    "\"\"\")"
   ]
  },
  {
   "cell_type": "markdown",
   "id": "5d538846",
   "metadata": {},
   "source": [
    "# --- Бизнес-рекомендация ---"
   ]
  }
 ],
 "metadata": {
  "kernelspec": {
   "display_name": "Python 3 (ipykernel)",
   "language": "python",
   "name": "python3"
  },
  "language_info": {
   "codemirror_mode": {
    "name": "ipython",
    "version": 3
   },
   "file_extension": ".py",
   "mimetype": "text/x-python",
   "name": "python",
   "nbconvert_exporter": "python",
   "pygments_lexer": "ipython3",
   "version": "3.11.7"
  }
 },
 "nbformat": 4,
 "nbformat_minor": 5
}
